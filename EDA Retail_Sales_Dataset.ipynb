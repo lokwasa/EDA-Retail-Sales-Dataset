{
 "cells": [
  {
   "cell_type": "code",
   "execution_count": null,
   "id": "b4caeb73",
   "metadata": {},
   "outputs": [],
   "source": [
    "# Importing libraries"
   ]
  },
  {
   "cell_type": "code",
   "execution_count": 1,
   "id": "621b71fa",
   "metadata": {},
   "outputs": [],
   "source": [
    "import pandas as pd\n",
    "import numpy as np\n",
    "import matplotlib.pyplot as plt\n",
    "import seaborn as sns"
   ]
  },
  {
   "cell_type": "code",
   "execution_count": 60,
   "id": "652cfe45",
   "metadata": {},
   "outputs": [
    {
     "data": {
      "text/html": [
       "<div>\n",
       "<style scoped>\n",
       "    .dataframe tbody tr th:only-of-type {\n",
       "        vertical-align: middle;\n",
       "    }\n",
       "\n",
       "    .dataframe tbody tr th {\n",
       "        vertical-align: top;\n",
       "    }\n",
       "\n",
       "    .dataframe thead th {\n",
       "        text-align: right;\n",
       "    }\n",
       "</style>\n",
       "<table border=\"1\" class=\"dataframe\">\n",
       "  <thead>\n",
       "    <tr style=\"text-align: right;\">\n",
       "      <th></th>\n",
       "      <th>Transaction ID</th>\n",
       "      <th>Date</th>\n",
       "      <th>Customer ID</th>\n",
       "      <th>Gender</th>\n",
       "      <th>Age</th>\n",
       "      <th>Product Category</th>\n",
       "      <th>Quantity</th>\n",
       "      <th>Price per Unit</th>\n",
       "      <th>Total Amount</th>\n",
       "    </tr>\n",
       "  </thead>\n",
       "  <tbody>\n",
       "    <tr>\n",
       "      <th>0</th>\n",
       "      <td>1</td>\n",
       "      <td>2023-11-24</td>\n",
       "      <td>CUST001</td>\n",
       "      <td>Male</td>\n",
       "      <td>34</td>\n",
       "      <td>Beauty</td>\n",
       "      <td>3</td>\n",
       "      <td>50</td>\n",
       "      <td>150</td>\n",
       "    </tr>\n",
       "    <tr>\n",
       "      <th>1</th>\n",
       "      <td>2</td>\n",
       "      <td>2023-02-27</td>\n",
       "      <td>CUST002</td>\n",
       "      <td>Female</td>\n",
       "      <td>26</td>\n",
       "      <td>Clothing</td>\n",
       "      <td>2</td>\n",
       "      <td>500</td>\n",
       "      <td>1000</td>\n",
       "    </tr>\n",
       "    <tr>\n",
       "      <th>2</th>\n",
       "      <td>3</td>\n",
       "      <td>2023-01-13</td>\n",
       "      <td>CUST003</td>\n",
       "      <td>Male</td>\n",
       "      <td>50</td>\n",
       "      <td>Electronics</td>\n",
       "      <td>1</td>\n",
       "      <td>30</td>\n",
       "      <td>30</td>\n",
       "    </tr>\n",
       "    <tr>\n",
       "      <th>3</th>\n",
       "      <td>4</td>\n",
       "      <td>2023-05-21</td>\n",
       "      <td>CUST004</td>\n",
       "      <td>Male</td>\n",
       "      <td>37</td>\n",
       "      <td>Clothing</td>\n",
       "      <td>1</td>\n",
       "      <td>500</td>\n",
       "      <td>500</td>\n",
       "    </tr>\n",
       "    <tr>\n",
       "      <th>4</th>\n",
       "      <td>5</td>\n",
       "      <td>2023-05-06</td>\n",
       "      <td>CUST005</td>\n",
       "      <td>Male</td>\n",
       "      <td>30</td>\n",
       "      <td>Beauty</td>\n",
       "      <td>2</td>\n",
       "      <td>50</td>\n",
       "      <td>100</td>\n",
       "    </tr>\n",
       "    <tr>\n",
       "      <th>5</th>\n",
       "      <td>6</td>\n",
       "      <td>2023-04-25</td>\n",
       "      <td>CUST006</td>\n",
       "      <td>Female</td>\n",
       "      <td>45</td>\n",
       "      <td>Beauty</td>\n",
       "      <td>1</td>\n",
       "      <td>30</td>\n",
       "      <td>30</td>\n",
       "    </tr>\n",
       "    <tr>\n",
       "      <th>6</th>\n",
       "      <td>7</td>\n",
       "      <td>2023-03-13</td>\n",
       "      <td>CUST007</td>\n",
       "      <td>Male</td>\n",
       "      <td>46</td>\n",
       "      <td>Clothing</td>\n",
       "      <td>2</td>\n",
       "      <td>25</td>\n",
       "      <td>50</td>\n",
       "    </tr>\n",
       "    <tr>\n",
       "      <th>7</th>\n",
       "      <td>8</td>\n",
       "      <td>2023-02-22</td>\n",
       "      <td>CUST008</td>\n",
       "      <td>Male</td>\n",
       "      <td>30</td>\n",
       "      <td>Electronics</td>\n",
       "      <td>4</td>\n",
       "      <td>25</td>\n",
       "      <td>100</td>\n",
       "    </tr>\n",
       "    <tr>\n",
       "      <th>8</th>\n",
       "      <td>9</td>\n",
       "      <td>2023-12-13</td>\n",
       "      <td>CUST009</td>\n",
       "      <td>Male</td>\n",
       "      <td>63</td>\n",
       "      <td>Electronics</td>\n",
       "      <td>2</td>\n",
       "      <td>300</td>\n",
       "      <td>600</td>\n",
       "    </tr>\n",
       "    <tr>\n",
       "      <th>9</th>\n",
       "      <td>10</td>\n",
       "      <td>2023-10-07</td>\n",
       "      <td>CUST010</td>\n",
       "      <td>Female</td>\n",
       "      <td>52</td>\n",
       "      <td>Clothing</td>\n",
       "      <td>4</td>\n",
       "      <td>50</td>\n",
       "      <td>200</td>\n",
       "    </tr>\n",
       "  </tbody>\n",
       "</table>\n",
       "</div>"
      ],
      "text/plain": [
       "   Transaction ID        Date Customer ID  Gender  Age Product Category  \\\n",
       "0               1  2023-11-24     CUST001    Male   34           Beauty   \n",
       "1               2  2023-02-27     CUST002  Female   26         Clothing   \n",
       "2               3  2023-01-13     CUST003    Male   50      Electronics   \n",
       "3               4  2023-05-21     CUST004    Male   37         Clothing   \n",
       "4               5  2023-05-06     CUST005    Male   30           Beauty   \n",
       "5               6  2023-04-25     CUST006  Female   45           Beauty   \n",
       "6               7  2023-03-13     CUST007    Male   46         Clothing   \n",
       "7               8  2023-02-22     CUST008    Male   30      Electronics   \n",
       "8               9  2023-12-13     CUST009    Male   63      Electronics   \n",
       "9              10  2023-10-07     CUST010  Female   52         Clothing   \n",
       "\n",
       "   Quantity  Price per Unit  Total Amount  \n",
       "0         3              50           150  \n",
       "1         2             500          1000  \n",
       "2         1              30            30  \n",
       "3         1             500           500  \n",
       "4         2              50           100  \n",
       "5         1              30            30  \n",
       "6         2              25            50  \n",
       "7         4              25           100  \n",
       "8         2             300           600  \n",
       "9         4              50           200  "
      ]
     },
     "execution_count": 60,
     "metadata": {},
     "output_type": "execute_result"
    }
   ],
   "source": [
    "df = pd.read_csv('retail_sales_dataset.csv')\n",
    "df.head(10)"
   ]
  },
  {
   "cell_type": "code",
   "execution_count": 61,
   "id": "fc0fa383",
   "metadata": {},
   "outputs": [
    {
     "data": {
      "text/plain": [
       "0           Beauty\n",
       "1         Clothing\n",
       "2      Electronics\n",
       "3         Clothing\n",
       "4           Beauty\n",
       "          ...     \n",
       "995       Clothing\n",
       "996         Beauty\n",
       "997         Beauty\n",
       "998    Electronics\n",
       "999    Electronics\n",
       "Name: Product Category, Length: 1000, dtype: object"
      ]
     },
     "execution_count": 61,
     "metadata": {},
     "output_type": "execute_result"
    }
   ],
   "source": [
    "df['Product Category']"
   ]
  },
  {
   "cell_type": "code",
   "execution_count": 4,
   "id": "a206f275",
   "metadata": {},
   "outputs": [
    {
     "name": "stdout",
     "output_type": "stream",
     "text": [
      "<class 'pandas.core.frame.DataFrame'>\n",
      "RangeIndex: 1000 entries, 0 to 999\n",
      "Data columns (total 9 columns):\n",
      " #   Column            Non-Null Count  Dtype \n",
      "---  ------            --------------  ----- \n",
      " 0   Transaction ID    1000 non-null   int64 \n",
      " 1   Date              1000 non-null   object\n",
      " 2   Customer ID       1000 non-null   object\n",
      " 3   Gender            1000 non-null   object\n",
      " 4   Age               1000 non-null   int64 \n",
      " 5   Product Category  1000 non-null   object\n",
      " 6   Quantity          1000 non-null   int64 \n",
      " 7   Price per Unit    1000 non-null   int64 \n",
      " 8   Total Amount      1000 non-null   int64 \n",
      "dtypes: int64(5), object(4)\n",
      "memory usage: 70.4+ KB\n"
     ]
    }
   ],
   "source": [
    "df.info()"
   ]
  },
  {
   "cell_type": "code",
   "execution_count": 5,
   "id": "30f25325",
   "metadata": {},
   "outputs": [],
   "source": [
    "# Convert the 'Date' column to datetime format\n",
    "df['Date'] = pd.to_datetime(df['Date'])"
   ]
  },
  {
   "cell_type": "code",
   "execution_count": 6,
   "id": "80c79e7d",
   "metadata": {},
   "outputs": [
    {
     "name": "stdout",
     "output_type": "stream",
     "text": [
      "<class 'pandas.core.frame.DataFrame'>\n",
      "RangeIndex: 1000 entries, 0 to 999\n",
      "Data columns (total 9 columns):\n",
      " #   Column            Non-Null Count  Dtype         \n",
      "---  ------            --------------  -----         \n",
      " 0   Transaction ID    1000 non-null   int64         \n",
      " 1   Date              1000 non-null   datetime64[ns]\n",
      " 2   Customer ID       1000 non-null   object        \n",
      " 3   Gender            1000 non-null   object        \n",
      " 4   Age               1000 non-null   int64         \n",
      " 5   Product Category  1000 non-null   object        \n",
      " 6   Quantity          1000 non-null   int64         \n",
      " 7   Price per Unit    1000 non-null   int64         \n",
      " 8   Total Amount      1000 non-null   int64         \n",
      "dtypes: datetime64[ns](1), int64(5), object(3)\n",
      "memory usage: 70.4+ KB\n"
     ]
    }
   ],
   "source": [
    "df.info()"
   ]
  },
  {
   "cell_type": "code",
   "execution_count": 7,
   "id": "f9d8e882",
   "metadata": {},
   "outputs": [
    {
     "data": {
      "text/plain": [
       "Transaction ID      0\n",
       "Date                0\n",
       "Customer ID         0\n",
       "Gender              0\n",
       "Age                 0\n",
       "Product Category    0\n",
       "Quantity            0\n",
       "Price per Unit      0\n",
       "Total Amount        0\n",
       "dtype: int64"
      ]
     },
     "execution_count": 7,
     "metadata": {},
     "output_type": "execute_result"
    }
   ],
   "source": [
    " # Count missing values in each column\n",
    "missing_count = df.isna().sum()\n",
    "missing_count"
   ]
  },
  {
   "cell_type": "code",
   "execution_count": 8,
   "id": "06f22133",
   "metadata": {},
   "outputs": [
    {
     "data": {
      "text/plain": [
       "0      False\n",
       "1      False\n",
       "2      False\n",
       "3      False\n",
       "4      False\n",
       "       ...  \n",
       "995    False\n",
       "996    False\n",
       "997    False\n",
       "998    False\n",
       "999    False\n",
       "Length: 1000, dtype: bool"
      ]
     },
     "execution_count": 8,
     "metadata": {},
     "output_type": "execute_result"
    }
   ],
   "source": [
    "# Check for duplicate records\n",
    "df.duplicated()"
   ]
  },
  {
   "cell_type": "markdown",
   "id": "0f9db7a7",
   "metadata": {},
   "source": [
    " ## Univirate Analysis for Categorical columns"
   ]
  },
  {
   "cell_type": "code",
   "execution_count": 9,
   "id": "984162df",
   "metadata": {},
   "outputs": [
    {
     "data": {
      "text/plain": [
       "Female    510\n",
       "Male      490\n",
       "Name: Gender, dtype: int64"
      ]
     },
     "execution_count": 9,
     "metadata": {},
     "output_type": "execute_result"
    }
   ],
   "source": [
    "df['Gender'].value_counts()"
   ]
  },
  {
   "cell_type": "code",
   "execution_count": 10,
   "id": "d85765c3",
   "metadata": {},
   "outputs": [
    {
     "data": {
      "text/plain": [
       "Clothing       351\n",
       "Electronics    342\n",
       "Beauty         307\n",
       "Name: Product Category, dtype: int64"
      ]
     },
     "execution_count": 10,
     "metadata": {},
     "output_type": "execute_result"
    }
   ],
   "source": [
    "df['Product Category'].value_counts()"
   ]
  },
  {
   "cell_type": "code",
   "execution_count": 11,
   "id": "c422f6ee",
   "metadata": {},
   "outputs": [
    {
     "data": {
      "text/html": [
       "<div>\n",
       "<style scoped>\n",
       "    .dataframe tbody tr th:only-of-type {\n",
       "        vertical-align: middle;\n",
       "    }\n",
       "\n",
       "    .dataframe tbody tr th {\n",
       "        vertical-align: top;\n",
       "    }\n",
       "\n",
       "    .dataframe thead th {\n",
       "        text-align: right;\n",
       "    }\n",
       "</style>\n",
       "<table border=\"1\" class=\"dataframe\">\n",
       "  <thead>\n",
       "    <tr style=\"text-align: right;\">\n",
       "      <th></th>\n",
       "      <th>Product Category</th>\n",
       "      <th>count</th>\n",
       "    </tr>\n",
       "  </thead>\n",
       "  <tbody>\n",
       "    <tr>\n",
       "      <th>0</th>\n",
       "      <td>Beauty</td>\n",
       "      <td>307</td>\n",
       "    </tr>\n",
       "    <tr>\n",
       "      <th>1</th>\n",
       "      <td>Clothing</td>\n",
       "      <td>351</td>\n",
       "    </tr>\n",
       "    <tr>\n",
       "      <th>2</th>\n",
       "      <td>Electronics</td>\n",
       "      <td>342</td>\n",
       "    </tr>\n",
       "  </tbody>\n",
       "</table>\n",
       "</div>"
      ],
      "text/plain": [
       "  Product Category  count\n",
       "0           Beauty    307\n",
       "1         Clothing    351\n",
       "2      Electronics    342"
      ]
     },
     "execution_count": 11,
     "metadata": {},
     "output_type": "execute_result"
    }
   ],
   "source": [
    "freq_table = df.groupby(['Product Category']).size().reset_index(name='count')\n",
    "freq_table"
   ]
  },
  {
   "cell_type": "code",
   "execution_count": 12,
   "id": "34df3c99",
   "metadata": {},
   "outputs": [
    {
     "data": {
      "text/html": [
       "<div>\n",
       "<style scoped>\n",
       "    .dataframe tbody tr th:only-of-type {\n",
       "        vertical-align: middle;\n",
       "    }\n",
       "\n",
       "    .dataframe tbody tr th {\n",
       "        vertical-align: top;\n",
       "    }\n",
       "\n",
       "    .dataframe thead th {\n",
       "        text-align: right;\n",
       "    }\n",
       "</style>\n",
       "<table border=\"1\" class=\"dataframe\">\n",
       "  <thead>\n",
       "    <tr style=\"text-align: right;\">\n",
       "      <th></th>\n",
       "      <th>Product Category</th>\n",
       "      <th>count</th>\n",
       "      <th>Count%</th>\n",
       "    </tr>\n",
       "  </thead>\n",
       "  <tbody>\n",
       "    <tr>\n",
       "      <th>0</th>\n",
       "      <td>Beauty</td>\n",
       "      <td>307</td>\n",
       "      <td>30.7</td>\n",
       "    </tr>\n",
       "    <tr>\n",
       "      <th>1</th>\n",
       "      <td>Clothing</td>\n",
       "      <td>351</td>\n",
       "      <td>35.1</td>\n",
       "    </tr>\n",
       "    <tr>\n",
       "      <th>2</th>\n",
       "      <td>Electronics</td>\n",
       "      <td>342</td>\n",
       "      <td>34.2</td>\n",
       "    </tr>\n",
       "  </tbody>\n",
       "</table>\n",
       "</div>"
      ],
      "text/plain": [
       "  Product Category  count  Count%\n",
       "0           Beauty    307    30.7\n",
       "1         Clothing    351    35.1\n",
       "2      Electronics    342    34.2"
      ]
     },
     "execution_count": 12,
     "metadata": {},
     "output_type": "execute_result"
    }
   ],
   "source": [
    "freq_table['Count%'] = freq_table['count']/sum(freq_table['count'])*100\n",
    "freq_table"
   ]
  },
  {
   "cell_type": "code",
   "execution_count": 13,
   "id": "a88e80ca",
   "metadata": {},
   "outputs": [
    {
     "data": {
      "image/png": "[encoded data removed]",
      "text/plain": [
       "<Figure size 432x288 with 1 Axes>"
      ]
     },
     "metadata": {
      "needs_background": "light"
     },
     "output_type": "display_data"
    }
   ],
   "source": [
    "plt.bar(freq_table['Product Category'], freq_table['count'])\n",
    "plt.show()"
   ]
  },
  {
   "cell_type": "code",
   "execution_count": 14,
   "id": "fbac5aec",
   "metadata": {},
   "outputs": [
    {
     "data": {
      "text/plain": [
       "<AxesSubplot:>"
      ]
     },
     "execution_count": 14,
     "metadata": {},
     "output_type": "execute_result"
    },
    {
     "data": {
      "image/png": "[encoded data removed]",
      "text/plain": [
       "<Figure size 432x288 with 1 Axes>"
      ]
     },
     "metadata": {
      "needs_background": "light"
     },
     "output_type": "display_data"
    }
   ],
   "source": [
    "df['Product Category'].value_counts().plot(kind = 'bar')"
   ]
  },
  {
   "cell_type": "markdown",
   "id": "aa382200",
   "metadata": {},
   "source": [
    " ## Numerical Variables"
   ]
  },
  {
   "cell_type": "code",
   "execution_count": 15,
   "id": "22747961",
   "metadata": {},
   "outputs": [
    {
     "data": {
      "text/html": [
       "<div>\n",
       "<style scoped>\n",
       "    .dataframe tbody tr th:only-of-type {\n",
       "        vertical-align: middle;\n",
       "    }\n",
       "\n",
       "    .dataframe tbody tr th {\n",
       "        vertical-align: top;\n",
       "    }\n",
       "\n",
       "    .dataframe thead th {\n",
       "        text-align: right;\n",
       "    }\n",
       "</style>\n",
       "<table border=\"1\" class=\"dataframe\">\n",
       "  <thead>\n",
       "    <tr style=\"text-align: right;\">\n",
       "      <th></th>\n",
       "      <th>Transaction ID</th>\n",
       "      <th>Age</th>\n",
       "      <th>Quantity</th>\n",
       "      <th>Price per Unit</th>\n",
       "      <th>Total Amount</th>\n",
       "    </tr>\n",
       "  </thead>\n",
       "  <tbody>\n",
       "    <tr>\n",
       "      <th>count</th>\n",
       "      <td>1000.000000</td>\n",
       "      <td>1000.00000</td>\n",
       "      <td>1000.000000</td>\n",
       "      <td>1000.000000</td>\n",
       "      <td>1000.000000</td>\n",
       "    </tr>\n",
       "    <tr>\n",
       "      <th>mean</th>\n",
       "      <td>500.500000</td>\n",
       "      <td>41.39200</td>\n",
       "      <td>2.514000</td>\n",
       "      <td>179.890000</td>\n",
       "      <td>456.000000</td>\n",
       "    </tr>\n",
       "    <tr>\n",
       "      <th>std</th>\n",
       "      <td>288.819436</td>\n",
       "      <td>13.68143</td>\n",
       "      <td>1.132734</td>\n",
       "      <td>189.681356</td>\n",
       "      <td>559.997632</td>\n",
       "    </tr>\n",
       "    <tr>\n",
       "      <th>min</th>\n",
       "      <td>1.000000</td>\n",
       "      <td>18.00000</td>\n",
       "      <td>1.000000</td>\n",
       "      <td>25.000000</td>\n",
       "      <td>25.000000</td>\n",
       "    </tr>\n",
       "    <tr>\n",
       "      <th>25%</th>\n",
       "      <td>250.750000</td>\n",
       "      <td>29.00000</td>\n",
       "      <td>1.000000</td>\n",
       "      <td>30.000000</td>\n",
       "      <td>60.000000</td>\n",
       "    </tr>\n",
       "    <tr>\n",
       "      <th>50%</th>\n",
       "      <td>500.500000</td>\n",
       "      <td>42.00000</td>\n",
       "      <td>3.000000</td>\n",
       "      <td>50.000000</td>\n",
       "      <td>135.000000</td>\n",
       "    </tr>\n",
       "    <tr>\n",
       "      <th>75%</th>\n",
       "      <td>750.250000</td>\n",
       "      <td>53.00000</td>\n",
       "      <td>4.000000</td>\n",
       "      <td>300.000000</td>\n",
       "      <td>900.000000</td>\n",
       "    </tr>\n",
       "    <tr>\n",
       "      <th>max</th>\n",
       "      <td>1000.000000</td>\n",
       "      <td>64.00000</td>\n",
       "      <td>4.000000</td>\n",
       "      <td>500.000000</td>\n",
       "      <td>2000.000000</td>\n",
       "    </tr>\n",
       "  </tbody>\n",
       "</table>\n",
       "</div>"
      ],
      "text/plain": [
       "       Transaction ID         Age     Quantity  Price per Unit  Total Amount\n",
       "count     1000.000000  1000.00000  1000.000000     1000.000000   1000.000000\n",
       "mean       500.500000    41.39200     2.514000      179.890000    456.000000\n",
       "std        288.819436    13.68143     1.132734      189.681356    559.997632\n",
       "min          1.000000    18.00000     1.000000       25.000000     25.000000\n",
       "25%        250.750000    29.00000     1.000000       30.000000     60.000000\n",
       "50%        500.500000    42.00000     3.000000       50.000000    135.000000\n",
       "75%        750.250000    53.00000     4.000000      300.000000    900.000000\n",
       "max       1000.000000    64.00000     4.000000      500.000000   2000.000000"
      ]
     },
     "execution_count": 15,
     "metadata": {},
     "output_type": "execute_result"
    }
   ],
   "source": [
    "df.describe()"
   ]
  },
  {
   "cell_type": "code",
   "execution_count": 16,
   "id": "c50e117c",
   "metadata": {},
   "outputs": [
    {
     "data": {
      "image/png": "[encoded data removed]",
      "text/plain": [
       "<Figure size 576x432 with 1 Axes>"
      ]
     },
     "metadata": {
      "needs_background": "light"
     },
     "output_type": "display_data"
    }
   ],
   "source": [
    "# Create a histogram for the 'Quantity' column\n",
    "plt.figure(figsize=(8, 6))\n",
    "plt.hist(df['Quantity'], bins=8, color='skyblue', edgecolor='black')\n",
    "plt.title('Histogram of Quantity')\n",
    "plt.xlabel('Quantity')\n",
    "plt.ylabel('Frequency')\n",
    "plt.grid(axis='y', linestyle='--', alpha=0.7)\n",
    "plt.show()"
   ]
  },
  {
   "cell_type": "code",
   "execution_count": 17,
   "id": "b3e1125a",
   "metadata": {},
   "outputs": [
    {
     "data": {
      "image/png": "[encoded data removed]",
      "text/plain": [
       "<Figure size 576x432 with 1 Axes>"
      ]
     },
     "metadata": {
      "needs_background": "light"
     },
     "output_type": "display_data"
    }
   ],
   "source": [
    "# Create a histogram for the 'Price per Unit' column\n",
    "\n",
    "plt.figure(figsize=(8, 6))\n",
    "plt.hist(df['Price per Unit'], bins=20, color='skyblue', edgecolor='black')\n",
    "plt.title('Histogram of Price Per Unit')\n",
    "plt.xlabel('Price Per Unit')\n",
    "plt.ylabel('Frequency')\n",
    "plt.grid(axis='y', linestyle='--', alpha=0.7)\n",
    "plt.show()"
   ]
  },
  {
   "cell_type": "code",
   "execution_count": 18,
   "id": "6103dc9a",
   "metadata": {},
   "outputs": [
    {
     "data": {
      "image/png": "[encoded data removed]",
      "text/plain": [
       "<Figure size 576x432 with 1 Axes>"
      ]
     },
     "metadata": {
      "needs_background": "light"
     },
     "output_type": "display_data"
    }
   ],
   "source": [
    "# Create a histogram using Seaborn\n",
    "plt.figure(figsize=(8, 6))\n",
    "sns.histplot(df['Total Amount'], bins=25, color='skyblue', edgecolor='black')\n",
    "plt.title('Histogram Total Amount')\n",
    "plt.xlabel('Total Amount')\n",
    "plt.ylabel('Frequency')\n",
    "plt.grid(axis='y', linestyle='--', alpha=0.7)\n",
    "plt.show()"
   ]
  },
  {
   "cell_type": "markdown",
   "id": "d13a8f0e",
   "metadata": {},
   "source": [
    " # 1.How does customer age  influence their purchasing behavior?\n"
   ]
  },
  {
   "cell_type": "code",
   "execution_count": 29,
   "id": "05a16819",
   "metadata": {},
   "outputs": [],
   "source": [
    " # Define age group boundaries\n",
    "age_bins = [18, 25, 35, 45, 55, 65, 100]  # Define your age boundaries here\n",
    "age_labels = [\"18-25\", \"26-35\", \"36-45\", \"46-55\", \"56-65\", \"66+\"]"
   ]
  },
  {
   "cell_type": "code",
   "execution_count": 30,
   "id": "54c2df9c",
   "metadata": {},
   "outputs": [
    {
     "name": "stdout",
     "output_type": "stream",
     "text": [
      "   Age Age Group\n",
      "0   34     26-35\n",
      "1   26     26-35\n",
      "2   50     46-55\n",
      "3   37     36-45\n",
      "4   30     26-35\n",
      "5   45     46-55\n",
      "6   46     46-55\n",
      "7   30     26-35\n",
      "8   63     56-65\n",
      "9   52     46-55\n"
     ]
    }
   ],
   "source": [
    "# Create a new column 'Age Group' based on the age bins and labels\n",
    "# right=False specifies that the bins are left-closed, meaning the lower bound is included in the bin\n",
    "df['Age Group'] = pd.cut(df['Age'], bins=age_bins, labels=age_labels, right=False)\n",
    "print(df[['Age', 'Age Group']].head(10))"
   ]
  },
  {
   "cell_type": "code",
   "execution_count": 31,
   "id": "1596f403",
   "metadata": {},
   "outputs": [
    {
     "data": {
      "text/html": [
       "<div>\n",
       "<style scoped>\n",
       "    .dataframe tbody tr th:only-of-type {\n",
       "        vertical-align: middle;\n",
       "    }\n",
       "\n",
       "    .dataframe tbody tr th {\n",
       "        vertical-align: top;\n",
       "    }\n",
       "\n",
       "    .dataframe thead th {\n",
       "        text-align: right;\n",
       "    }\n",
       "</style>\n",
       "<table border=\"1\" class=\"dataframe\">\n",
       "  <thead>\n",
       "    <tr style=\"text-align: right;\">\n",
       "      <th></th>\n",
       "      <th>Age Group</th>\n",
       "      <th>Quantity</th>\n",
       "    </tr>\n",
       "  </thead>\n",
       "  <tbody>\n",
       "    <tr>\n",
       "      <th>0</th>\n",
       "      <td>18-25</td>\n",
       "      <td>366</td>\n",
       "    </tr>\n",
       "    <tr>\n",
       "      <th>1</th>\n",
       "      <td>26-35</td>\n",
       "      <td>522</td>\n",
       "    </tr>\n",
       "    <tr>\n",
       "      <th>2</th>\n",
       "      <td>36-45</td>\n",
       "      <td>533</td>\n",
       "    </tr>\n",
       "    <tr>\n",
       "      <th>3</th>\n",
       "      <td>46-55</td>\n",
       "      <td>578</td>\n",
       "    </tr>\n",
       "    <tr>\n",
       "      <th>4</th>\n",
       "      <td>56-65</td>\n",
       "      <td>515</td>\n",
       "    </tr>\n",
       "    <tr>\n",
       "      <th>5</th>\n",
       "      <td>66+</td>\n",
       "      <td>0</td>\n",
       "    </tr>\n",
       "  </tbody>\n",
       "</table>\n",
       "</div>"
      ],
      "text/plain": [
       "  Age Group  Quantity\n",
       "0     18-25       366\n",
       "1     26-35       522\n",
       "2     36-45       533\n",
       "3     46-55       578\n",
       "4     56-65       515\n",
       "5       66+         0"
      ]
     },
     "execution_count": 31,
     "metadata": {},
     "output_type": "execute_result"
    }
   ],
   "source": [
    " # Group the data by 'Age Group' and calculate the total quantity of products purchased\n",
    "age_group_purchase = df.groupby('Age Group')['Quantity'].sum().reset_index()\n",
    "age_group_purchase"
   ]
  },
  {
   "cell_type": "code",
   "execution_count": 32,
   "id": "a6fc3f21",
   "metadata": {},
   "outputs": [
    {
     "data": {
      "text/html": [
       "<div>\n",
       "<style scoped>\n",
       "    .dataframe tbody tr th:only-of-type {\n",
       "        vertical-align: middle;\n",
       "    }\n",
       "\n",
       "    .dataframe tbody tr th {\n",
       "        vertical-align: top;\n",
       "    }\n",
       "\n",
       "    .dataframe thead th {\n",
       "        text-align: right;\n",
       "    }\n",
       "</style>\n",
       "<table border=\"1\" class=\"dataframe\">\n",
       "  <thead>\n",
       "    <tr style=\"text-align: right;\">\n",
       "      <th></th>\n",
       "      <th>Age Group</th>\n",
       "      <th>Quantity</th>\n",
       "    </tr>\n",
       "  </thead>\n",
       "  <tbody>\n",
       "    <tr>\n",
       "      <th>3</th>\n",
       "      <td>46-55</td>\n",
       "      <td>578</td>\n",
       "    </tr>\n",
       "    <tr>\n",
       "      <th>2</th>\n",
       "      <td>36-45</td>\n",
       "      <td>533</td>\n",
       "    </tr>\n",
       "    <tr>\n",
       "      <th>1</th>\n",
       "      <td>26-35</td>\n",
       "      <td>522</td>\n",
       "    </tr>\n",
       "    <tr>\n",
       "      <th>4</th>\n",
       "      <td>56-65</td>\n",
       "      <td>515</td>\n",
       "    </tr>\n",
       "    <tr>\n",
       "      <th>0</th>\n",
       "      <td>18-25</td>\n",
       "      <td>366</td>\n",
       "    </tr>\n",
       "    <tr>\n",
       "      <th>5</th>\n",
       "      <td>66+</td>\n",
       "      <td>0</td>\n",
       "    </tr>\n",
       "  </tbody>\n",
       "</table>\n",
       "</div>"
      ],
      "text/plain": [
       "  Age Group  Quantity\n",
       "3     46-55       578\n",
       "2     36-45       533\n",
       "1     26-35       522\n",
       "4     56-65       515\n",
       "0     18-25       366\n",
       "5       66+         0"
      ]
     },
     "execution_count": 32,
     "metadata": {},
     "output_type": "execute_result"
    }
   ],
   "source": [
    "# Sort the data by total quantity in descending order to find the age group that purchases the most products\n",
    "age_group_purchase_sorted = age_group_purchase.sort_values(by='Quantity', ascending=False)\n",
    "age_group_purchase_sorted"
   ]
  },
  {
   "cell_type": "code",
   "execution_count": 33,
   "id": "983057d0",
   "metadata": {},
   "outputs": [
    {
     "data": {
      "image/png": "[encoded data removed]",
      "text/plain": [
       "<Figure size 720x432 with 1 Axes>"
      ]
     },
     "metadata": {
      "needs_background": "light"
     },
     "output_type": "display_data"
    }
   ],
   "source": [
    "# Create a bar chart to rank age groups by total quantity of products purchased\n",
    "plt.figure(figsize=(10, 6))\n",
    "sns.barplot(data=age_group_purchase_sorted, x='Age Group', y='Quantity', palette='viridis')\n",
    "plt.title('Ranking of Age Groups by Total Quantity of Products Purchased')\n",
    "plt.xlabel('Age Group')\n",
    "plt.ylabel('Total Quantity of Products Purchased')\n",
    "plt.xticks(rotation=45)\n",
    "plt.show()"
   ]
  },
  {
   "cell_type": "markdown",
   "id": "3bb8c3a7",
   "metadata": {},
   "source": [
    "# Insights\n",
    "Age Influence: Customers in the \"46-55\" age group tend to spend the most on average, followed by the \"36-45\" age group.\n",
    "Recommendation\n",
    "-Target marketing campaigns specifically to customer segments that exhibit higher spending.\n",
    "-Tailor product offerings and promotions to align with the preferences of different age"
   ]
  },
  {
   "cell_type": "markdown",
   "id": "7641cbe4",
   "metadata": {},
   "source": [
    " # 2.How does customer gender influence purchasing behavior ?"
   ]
  },
  {
   "cell_type": "code",
   "execution_count": 34,
   "id": "8042c1bb",
   "metadata": {},
   "outputs": [
    {
     "data": {
      "text/plain": [
       "Gender\n",
       "Female    232840\n",
       "Male      223160\n",
       "Name: Total Amount, dtype: int64"
      ]
     },
     "execution_count": 34,
     "metadata": {},
     "output_type": "execute_result"
    }
   ],
   "source": [
    "# Sum of Total Amount by gender\n",
    "gender_purchase_sum = df.groupby('Gender')['Total Amount'].sum()\n",
    "gender_purchase_sum\n"
   ]
  },
  {
   "cell_type": "code",
   "execution_count": 35,
   "id": "4d557922",
   "metadata": {},
   "outputs": [
    {
     "data": {
      "image/png": "[encoded data removed]",
      "text/plain": [
       "<Figure size 576x432 with 1 Axes>"
      ]
     },
     "metadata": {
      "needs_background": "light"
     },
     "output_type": "display_data"
    }
   ],
   "source": [
    "# Bar chart to compare average Total Amount by gender\n",
    "plt.figure(figsize=(8, 6))\n",
    "sns.barplot(data=df, x='Gender', y='Total Amount', ci=None, palette='pastel')#ci=None is used to turn off the display of confidence intervals in Seaborn's bar charts, making the chart cleaner and more focused on the main data points (e.g., mean values).\n",
    "plt.title('Average Total Amount by Gender')\n",
    "plt.xlabel('Gender')\n",
    "plt.ylabel('Average Total Amount')\n",
    "plt.show()"
   ]
  },
  {
   "cell_type": "code",
   "execution_count": 36,
   "id": "89d19a0f",
   "metadata": {},
   "outputs": [
    {
     "data": {
      "text/plain": [
       "9680"
      ]
     },
     "execution_count": 36,
     "metadata": {},
     "output_type": "execute_result"
    }
   ],
   "source": [
    "232840-223160"
   ]
  },
  {
   "cell_type": "markdown",
   "id": "2e151bd4",
   "metadata": {},
   "source": [
    "Females tend to spend more than males."
   ]
  },
  {
   "cell_type": "markdown",
   "id": "71ff65d8",
   "metadata": {},
   "source": [
    "# 1&2 How does customer age and gender influence their purchasing behavior?"
   ]
  },
  {
   "cell_type": "code",
   "execution_count": 37,
   "id": "1dd8a5bf",
   "metadata": {},
   "outputs": [
    {
     "data": {
      "text/plain": [
       "64"
      ]
     },
     "execution_count": 37,
     "metadata": {},
     "output_type": "execute_result"
    }
   ],
   "source": [
    "df['Age'].max()"
   ]
  },
  {
   "cell_type": "code",
   "execution_count": 38,
   "id": "76aba7bf",
   "metadata": {},
   "outputs": [],
   "source": [
    "# Customer segmentation by age group\n",
    "# Define age group boundaries\n",
    "age_bins = [18, 25, 35, 45, 55, 65, 100]  # Define your age boundaries here\n",
    "age_labels = [\"18-25\", \"26-35\", \"36-45\", \"46-55\", \"56-65\", \"66+\"]           "
   ]
  },
  {
   "cell_type": "code",
   "execution_count": 39,
   "id": "ffdd4d35",
   "metadata": {},
   "outputs": [
    {
     "name": "stdout",
     "output_type": "stream",
     "text": [
      "   Age Age Group\n",
      "0   34     26-35\n",
      "1   26     26-35\n",
      "2   50     46-55\n",
      "3   37     36-45\n",
      "4   30     26-35\n",
      "5   45     46-55\n",
      "6   46     46-55\n",
      "7   30     26-35\n",
      "8   63     56-65\n",
      "9   52     46-55\n"
     ]
    }
   ],
   "source": [
    "# Create a new column 'Age Group' based on the age bins and labels\n",
    "df['Age Group'] = pd.cut(df['Age'], bins=age_bins, labels=age_labels, right=False)\n",
    "print(df[['Age', 'Age Group']].head(10))"
   ]
  },
  {
   "cell_type": "code",
   "execution_count": 40,
   "id": "96525a31",
   "metadata": {},
   "outputs": [
    {
     "data": {
      "text/html": [
       "<div>\n",
       "<style scoped>\n",
       "    .dataframe tbody tr th:only-of-type {\n",
       "        vertical-align: middle;\n",
       "    }\n",
       "\n",
       "    .dataframe tbody tr th {\n",
       "        vertical-align: top;\n",
       "    }\n",
       "\n",
       "    .dataframe thead th {\n",
       "        text-align: right;\n",
       "    }\n",
       "</style>\n",
       "<table border=\"1\" class=\"dataframe\">\n",
       "  <thead>\n",
       "    <tr style=\"text-align: right;\">\n",
       "      <th>Gender</th>\n",
       "      <th>Female</th>\n",
       "      <th>Male</th>\n",
       "    </tr>\n",
       "    <tr>\n",
       "      <th>Age Group</th>\n",
       "      <th></th>\n",
       "      <th></th>\n",
       "    </tr>\n",
       "  </thead>\n",
       "  <tbody>\n",
       "    <tr>\n",
       "      <th>18-25</th>\n",
       "      <td>498.888889</td>\n",
       "      <td>502.987013</td>\n",
       "    </tr>\n",
       "    <tr>\n",
       "      <th>26-35</th>\n",
       "      <td>508.333333</td>\n",
       "      <td>447.920792</td>\n",
       "    </tr>\n",
       "    <tr>\n",
       "      <th>36-45</th>\n",
       "      <td>472.901786</td>\n",
       "      <td>461.789474</td>\n",
       "    </tr>\n",
       "    <tr>\n",
       "      <th>46-55</th>\n",
       "      <td>407.173913</td>\n",
       "      <td>458.272727</td>\n",
       "    </tr>\n",
       "    <tr>\n",
       "      <th>56-65</th>\n",
       "      <td>415.412844</td>\n",
       "      <td>419.719626</td>\n",
       "    </tr>\n",
       "    <tr>\n",
       "      <th>66+</th>\n",
       "      <td>NaN</td>\n",
       "      <td>NaN</td>\n",
       "    </tr>\n",
       "  </tbody>\n",
       "</table>\n",
       "</div>"
      ],
      "text/plain": [
       "Gender         Female        Male\n",
       "Age Group                        \n",
       "18-25      498.888889  502.987013\n",
       "26-35      508.333333  447.920792\n",
       "36-45      472.901786  461.789474\n",
       "46-55      407.173913  458.272727\n",
       "56-65      415.412844  419.719626\n",
       "66+               NaN         NaN"
      ]
     },
     "execution_count": 40,
     "metadata": {},
     "output_type": "execute_result"
    }
   ],
   "source": [
    "# Analyze purchasing behavior by age and gender\n",
    "# unstack() transforms one level of the index into columns, making the data more tabular.\n",
    "age_gender_purchase= df.groupby(['Age Group', 'Gender'])['Total Amount'].mean().unstack()\n",
    "age_gender_purchase"
   ]
  },
  {
   "cell_type": "code",
   "execution_count": 41,
   "id": "89320e37",
   "metadata": {},
   "outputs": [
    {
     "data": {
      "image/png": "[encoded data removed]",
      "text/plain": [
       "<Figure size 720x432 with 2 Axes>"
      ]
     },
     "metadata": {
      "needs_background": "light"
     },
     "output_type": "display_data"
    }
   ],
   "source": [
    "# Visualize purchasing behavior by age and gender\n",
    "# annot=True-> dds numeric annotations (values) to the cells of the heatmap.\n",
    "# fmt='.2f->  format of the annotations as floating-point numbers with two decimal places.\n",
    "#cmap='YlGnBu'-> 'YlGnBu' is a color map that goes from yellow to green to blue, indicating low to high values \n",
    "plt.figure(figsize=(10, 6))\n",
    "sns.heatmap(age_gender_purchase, annot=True, fmt='.3f', cmap='YlGnBu')\n",
    "plt.title('Average Total Amount by Age Group and Gender')\n",
    "plt.xlabel('Gender')\n",
    "plt.ylabel('Age Group')\n",
    "plt.show()"
   ]
  },
  {
   "cell_type": "markdown",
   "id": "f9b2ef92",
   "metadata": {},
   "source": [
    "  # **Insights\n",
    "  *The \"26-35\" age group of females tends to have the highest average spending, while  \"18-25\" age group of males tends to have    the highest average spending.\n",
    "**Conclusions\n",
    " * Target marketing campaigns specifically to customer segments that exhibit higher spending.\n",
    " * Tailor product offerings and promotions to align with the preferences of different age and gender groups.\n",
    " * Continuously monitor and analyze customer behavior to adapt strategies as needed."
   ]
  },
  {
   "cell_type": "markdown",
   "id": "c08f54b8",
   "metadata": {},
   "source": [
    "# 2.Are there discernible patterns in sales across different time periods?"
   ]
  },
  {
   "cell_type": "code",
   "execution_count": 42,
   "id": "40706e1a",
   "metadata": {},
   "outputs": [
    {
     "name": "stdout",
     "output_type": "stream",
     "text": [
      "Start Date: 2023-01-01 00:00:00\n"
     ]
    }
   ],
   "source": [
    "# Find the start date\n",
    "start_date = df['Date'].min()\n",
    "\n",
    "print(\"Start Date:\", start_date)"
   ]
  },
  {
   "cell_type": "code",
   "execution_count": 43,
   "id": "1336424d",
   "metadata": {},
   "outputs": [
    {
     "name": "stdout",
     "output_type": "stream",
     "text": [
      "end Date: 2024-01-01 00:00:00\n"
     ]
    }
   ],
   "source": [
    "end_date = df['Date'].max()\n",
    "\n",
    "print(\"end Date:\", end_date)"
   ]
  },
  {
   "cell_type": "code",
   "execution_count": 44,
   "id": "54dfb748",
   "metadata": {},
   "outputs": [],
   "source": [
    "# Generate sample data with sales ranging from 25 to 2000\n",
    "np.random.seed(42)\n",
    "num_points = 100\n",
    "date_range = pd.date_range(start='2023-01-01', periods=num_points, freq='D')# freq='D'It means that the sequence of dates will be generated with a one-day interval between them.\n",
    "total_sales = np.random.randint(25, 2001, size=num_points)\n"
   ]
  },
  {
   "cell_type": "code",
   "execution_count": 45,
   "id": "a989eacc",
   "metadata": {},
   "outputs": [
    {
     "data": {
      "text/html": [
       "<div>\n",
       "<style scoped>\n",
       "    .dataframe tbody tr th:only-of-type {\n",
       "        vertical-align: middle;\n",
       "    }\n",
       "\n",
       "    .dataframe tbody tr th {\n",
       "        vertical-align: top;\n",
       "    }\n",
       "\n",
       "    .dataframe thead th {\n",
       "        text-align: right;\n",
       "    }\n",
       "</style>\n",
       "<table border=\"1\" class=\"dataframe\">\n",
       "  <thead>\n",
       "    <tr style=\"text-align: right;\">\n",
       "      <th></th>\n",
       "      <th>Date</th>\n",
       "      <th>Total Amount</th>\n",
       "    </tr>\n",
       "  </thead>\n",
       "  <tbody>\n",
       "    <tr>\n",
       "      <th>0</th>\n",
       "      <td>2023-01-01</td>\n",
       "      <td>1151</td>\n",
       "    </tr>\n",
       "    <tr>\n",
       "      <th>1</th>\n",
       "      <td>2023-01-02</td>\n",
       "      <td>1484</td>\n",
       "    </tr>\n",
       "    <tr>\n",
       "      <th>2</th>\n",
       "      <td>2023-01-03</td>\n",
       "      <td>885</td>\n",
       "    </tr>\n",
       "    <tr>\n",
       "      <th>3</th>\n",
       "      <td>2023-01-04</td>\n",
       "      <td>1319</td>\n",
       "    </tr>\n",
       "    <tr>\n",
       "      <th>4</th>\n",
       "      <td>2023-01-05</td>\n",
       "      <td>1155</td>\n",
       "    </tr>\n",
       "    <tr>\n",
       "      <th>...</th>\n",
       "      <td>...</td>\n",
       "      <td>...</td>\n",
       "    </tr>\n",
       "    <tr>\n",
       "      <th>95</th>\n",
       "      <td>2023-04-06</td>\n",
       "      <td>1820</td>\n",
       "    </tr>\n",
       "    <tr>\n",
       "      <th>96</th>\n",
       "      <td>2023-04-07</td>\n",
       "      <td>1870</td>\n",
       "    </tr>\n",
       "    <tr>\n",
       "      <th>97</th>\n",
       "      <td>2023-04-08</td>\n",
       "      <td>1525</td>\n",
       "    </tr>\n",
       "    <tr>\n",
       "      <th>98</th>\n",
       "      <td>2023-04-09</td>\n",
       "      <td>727</td>\n",
       "    </tr>\n",
       "    <tr>\n",
       "      <th>99</th>\n",
       "      <td>2023-04-10</td>\n",
       "      <td>426</td>\n",
       "    </tr>\n",
       "  </tbody>\n",
       "</table>\n",
       "<p>100 rows × 2 columns</p>\n",
       "</div>"
      ],
      "text/plain": [
       "         Date  Total Amount\n",
       "0  2023-01-01          1151\n",
       "1  2023-01-02          1484\n",
       "2  2023-01-03           885\n",
       "3  2023-01-04          1319\n",
       "4  2023-01-05          1155\n",
       "..        ...           ...\n",
       "95 2023-04-06          1820\n",
       "96 2023-04-07          1870\n",
       "97 2023-04-08          1525\n",
       "98 2023-04-09           727\n",
       "99 2023-04-10           426\n",
       "\n",
       "[100 rows x 2 columns]"
      ]
     },
     "execution_count": 45,
     "metadata": {},
     "output_type": "execute_result"
    }
   ],
   "source": [
    "# Create a DataFrame\n",
    "df = pd.DataFrame({'Date': date_range, 'Total Amount': total_sales})\n",
    "df"
   ]
  },
  {
   "cell_type": "code",
   "execution_count": 46,
   "id": "030711ae",
   "metadata": {},
   "outputs": [],
   "source": [
    " # Extract additional time-related information\n",
    "df['Month'] = df['Date'].dt.month\n",
    "df['DayOfWeek'] = df['Date'].dt.day_name()"
   ]
  },
  {
   "cell_type": "code",
   "execution_count": 47,
   "id": "a2d4abf4",
   "metadata": {},
   "outputs": [
    {
     "data": {
      "image/png": "[encoded data removed]",
      "text/plain": [
       "<Figure size 864x432 with 1 Axes>"
      ]
     },
     "metadata": {
      "needs_background": "light"
     },
     "output_type": "display_data"
    }
   ],
   "source": [
    "# Create a box  plot for sales by month\n",
    "plt.figure(figsize=(12, 6))\n",
    "sns.boxplot(data=df, x='Month', y='Total Amount', width=0.5)\n",
    "plt.title('Sales Distribution by Month')\n",
    "plt.xlabel('Month')\n",
    "plt.ylabel('Total Sales')\n",
    "plt.grid(True)\n",
    "plt.show()\n"
   ]
  },
  {
   "cell_type": "code",
   "execution_count": 48,
   "id": "876f6e99",
   "metadata": {},
   "outputs": [
    {
     "data": {
      "image/png": "[encoded data removed]",
      "text/plain": [
       "<Figure size 864x432 with 1 Axes>"
      ]
     },
     "metadata": {
      "needs_background": "light"
     },
     "output_type": "display_data"
    }
   ],
   "source": [
    "# Create a violin plot for sales by month\n",
    "plt.figure(figsize=(12, 6))\n",
    "sns.violinplot(data=df, x='Month', y='Total Amount')\n",
    "plt.title('Sales Distribution by Month (Violin Plot)')\n",
    "plt.xlabel('Month')\n",
    "plt.ylabel('Total Sales')\n",
    "plt.grid(True)\n",
    "plt.show()"
   ]
  },
  {
   "cell_type": "code",
   "execution_count": 55,
   "id": "bbcb4ec1",
   "metadata": {},
   "outputs": [
    {
     "data": {
      "text/html": [
       "<div>\n",
       "<style scoped>\n",
       "    .dataframe tbody tr th:only-of-type {\n",
       "        vertical-align: middle;\n",
       "    }\n",
       "\n",
       "    .dataframe tbody tr th {\n",
       "        vertical-align: top;\n",
       "    }\n",
       "\n",
       "    .dataframe thead th {\n",
       "        text-align: right;\n",
       "    }\n",
       "</style>\n",
       "<table border=\"1\" class=\"dataframe\">\n",
       "  <thead>\n",
       "    <tr style=\"text-align: right;\">\n",
       "      <th></th>\n",
       "      <th>DayOfWeek</th>\n",
       "      <th>Total Amount</th>\n",
       "    </tr>\n",
       "  </thead>\n",
       "  <tbody>\n",
       "    <tr>\n",
       "      <th>0</th>\n",
       "      <td>Friday</td>\n",
       "      <td>11931</td>\n",
       "    </tr>\n",
       "    <tr>\n",
       "      <th>1</th>\n",
       "      <td>Monday</td>\n",
       "      <td>18011</td>\n",
       "    </tr>\n",
       "    <tr>\n",
       "      <th>2</th>\n",
       "      <td>Saturday</td>\n",
       "      <td>12975</td>\n",
       "    </tr>\n",
       "    <tr>\n",
       "      <th>3</th>\n",
       "      <td>Sunday</td>\n",
       "      <td>13175</td>\n",
       "    </tr>\n",
       "    <tr>\n",
       "      <th>4</th>\n",
       "      <td>Thursday</td>\n",
       "      <td>16960</td>\n",
       "    </tr>\n",
       "    <tr>\n",
       "      <th>5</th>\n",
       "      <td>Tuesday</td>\n",
       "      <td>11620</td>\n",
       "    </tr>\n",
       "    <tr>\n",
       "      <th>6</th>\n",
       "      <td>Wednesday</td>\n",
       "      <td>16699</td>\n",
       "    </tr>\n",
       "  </tbody>\n",
       "</table>\n",
       "</div>"
      ],
      "text/plain": [
       "   DayOfWeek  Total Amount\n",
       "0     Friday         11931\n",
       "1     Monday         18011\n",
       "2   Saturday         12975\n",
       "3     Sunday         13175\n",
       "4   Thursday         16960\n",
       "5    Tuesday         11620\n",
       "6  Wednesday         16699"
      ]
     },
     "execution_count": 55,
     "metadata": {},
     "output_type": "execute_result"
    }
   ],
   "source": [
    "# Group the data by day of the week and calculate total sales for each month\n",
    "day_of_week_sales = df.groupby('DayOfWeek')['Total Amount'].sum().reset_index()\n",
    "day_of_week_sales"
   ]
  },
  {
   "cell_type": "code",
   "execution_count": 50,
   "id": "84e86e5a",
   "metadata": {},
   "outputs": [
    {
     "data": {
      "text/html": [
       "<div>\n",
       "<style scoped>\n",
       "    .dataframe tbody tr th:only-of-type {\n",
       "        vertical-align: middle;\n",
       "    }\n",
       "\n",
       "    .dataframe tbody tr th {\n",
       "        vertical-align: top;\n",
       "    }\n",
       "\n",
       "    .dataframe thead th {\n",
       "        text-align: right;\n",
       "    }\n",
       "</style>\n",
       "<table border=\"1\" class=\"dataframe\">\n",
       "  <thead>\n",
       "    <tr style=\"text-align: right;\">\n",
       "      <th></th>\n",
       "      <th>Month</th>\n",
       "      <th>Total Amount</th>\n",
       "    </tr>\n",
       "  </thead>\n",
       "  <tbody>\n",
       "    <tr>\n",
       "      <th>0</th>\n",
       "      <td>1</td>\n",
       "      <td>31793</td>\n",
       "    </tr>\n",
       "    <tr>\n",
       "      <th>1</th>\n",
       "      <td>2</td>\n",
       "      <td>29018</td>\n",
       "    </tr>\n",
       "    <tr>\n",
       "      <th>2</th>\n",
       "      <td>3</td>\n",
       "      <td>28914</td>\n",
       "    </tr>\n",
       "    <tr>\n",
       "      <th>3</th>\n",
       "      <td>4</td>\n",
       "      <td>11646</td>\n",
       "    </tr>\n",
       "  </tbody>\n",
       "</table>\n",
       "</div>"
      ],
      "text/plain": [
       "   Month  Total Amount\n",
       "0      1         31793\n",
       "1      2         29018\n",
       "2      3         28914\n",
       "3      4         11646"
      ]
     },
     "execution_count": 50,
     "metadata": {},
     "output_type": "execute_result"
    }
   ],
   "source": [
    "# Group the data by month and calculate total sales for each month\n",
    "monthly_sales = df.groupby('Month')['Total Amount'].sum().reset_index()\n",
    "monthly_sales"
   ]
  },
  {
   "cell_type": "code",
   "execution_count": 51,
   "id": "f9b00c45",
   "metadata": {},
   "outputs": [
    {
     "data": {
      "text/html": [
       "<div>\n",
       "<style scoped>\n",
       "    .dataframe tbody tr th:only-of-type {\n",
       "        vertical-align: middle;\n",
       "    }\n",
       "\n",
       "    .dataframe tbody tr th {\n",
       "        vertical-align: top;\n",
       "    }\n",
       "\n",
       "    .dataframe thead th {\n",
       "        text-align: right;\n",
       "    }\n",
       "</style>\n",
       "<table border=\"1\" class=\"dataframe\">\n",
       "  <thead>\n",
       "    <tr style=\"text-align: right;\">\n",
       "      <th></th>\n",
       "      <th>Month</th>\n",
       "      <th>Total Amount</th>\n",
       "    </tr>\n",
       "  </thead>\n",
       "  <tbody>\n",
       "    <tr>\n",
       "      <th>0</th>\n",
       "      <td>1</td>\n",
       "      <td>31793</td>\n",
       "    </tr>\n",
       "  </tbody>\n",
       "</table>\n",
       "</div>"
      ],
      "text/plain": [
       "   Month  Total Amount\n",
       "0      1         31793"
      ]
     },
     "execution_count": 51,
     "metadata": {},
     "output_type": "execute_result"
    }
   ],
   "source": [
    "# Find the month(s) with the highest total sales\n",
    "max_sales_month = monthly_sales[monthly_sales['Total Amount'] == monthly_sales['Total Amount'].max()]\n",
    "max_sales_month"
   ]
  },
  {
   "cell_type": "code",
   "execution_count": 52,
   "id": "da16b5ad",
   "metadata": {},
   "outputs": [
    {
     "data": {
      "text/html": [
       "<div>\n",
       "<style scoped>\n",
       "    .dataframe tbody tr th:only-of-type {\n",
       "        vertical-align: middle;\n",
       "    }\n",
       "\n",
       "    .dataframe tbody tr th {\n",
       "        vertical-align: top;\n",
       "    }\n",
       "\n",
       "    .dataframe thead th {\n",
       "        text-align: right;\n",
       "    }\n",
       "</style>\n",
       "<table border=\"1\" class=\"dataframe\">\n",
       "  <thead>\n",
       "    <tr style=\"text-align: right;\">\n",
       "      <th></th>\n",
       "      <th>Month</th>\n",
       "      <th>Total Amount</th>\n",
       "    </tr>\n",
       "  </thead>\n",
       "  <tbody>\n",
       "    <tr>\n",
       "      <th>3</th>\n",
       "      <td>4</td>\n",
       "      <td>11646</td>\n",
       "    </tr>\n",
       "  </tbody>\n",
       "</table>\n",
       "</div>"
      ],
      "text/plain": [
       "   Month  Total Amount\n",
       "3      4         11646"
      ]
     },
     "execution_count": 52,
     "metadata": {},
     "output_type": "execute_result"
    }
   ],
   "source": [
    "# Find the month(s) with the least total sales\n",
    "max_sales_month = monthly_sales[monthly_sales['Total Amount'] == monthly_sales['Total Amount'].min()]\n",
    "max_sales_month"
   ]
  },
  {
   "cell_type": "code",
   "execution_count": 53,
   "id": "ce5c8934",
   "metadata": {},
   "outputs": [
    {
     "data": {
      "text/html": [
       "<div>\n",
       "<style scoped>\n",
       "    .dataframe tbody tr th:only-of-type {\n",
       "        vertical-align: middle;\n",
       "    }\n",
       "\n",
       "    .dataframe tbody tr th {\n",
       "        vertical-align: top;\n",
       "    }\n",
       "\n",
       "    .dataframe thead th {\n",
       "        text-align: right;\n",
       "    }\n",
       "</style>\n",
       "<table border=\"1\" class=\"dataframe\">\n",
       "  <thead>\n",
       "    <tr style=\"text-align: right;\">\n",
       "      <th></th>\n",
       "      <th>DayOfWeek</th>\n",
       "      <th>Total Amount</th>\n",
       "    </tr>\n",
       "  </thead>\n",
       "  <tbody>\n",
       "    <tr>\n",
       "      <th>1</th>\n",
       "      <td>Monday</td>\n",
       "      <td>18011</td>\n",
       "    </tr>\n",
       "  </tbody>\n",
       "</table>\n",
       "</div>"
      ],
      "text/plain": [
       "  DayOfWeek  Total Amount\n",
       "1    Monday         18011"
      ]
     },
     "execution_count": 53,
     "metadata": {},
     "output_type": "execute_result"
    }
   ],
   "source": [
    "# Find the day of week(s) with the highest total sales\n",
    "day_of_week_sales =day_of_week_sales [day_of_week_sales['Total Amount'] == day_of_week_sales['Total Amount'].max()]\n",
    "day_of_week_sales"
   ]
  },
  {
   "cell_type": "code",
   "execution_count": 56,
   "id": "f6e9854a",
   "metadata": {},
   "outputs": [
    {
     "data": {
      "text/html": [
       "<div>\n",
       "<style scoped>\n",
       "    .dataframe tbody tr th:only-of-type {\n",
       "        vertical-align: middle;\n",
       "    }\n",
       "\n",
       "    .dataframe tbody tr th {\n",
       "        vertical-align: top;\n",
       "    }\n",
       "\n",
       "    .dataframe thead th {\n",
       "        text-align: right;\n",
       "    }\n",
       "</style>\n",
       "<table border=\"1\" class=\"dataframe\">\n",
       "  <thead>\n",
       "    <tr style=\"text-align: right;\">\n",
       "      <th></th>\n",
       "      <th>DayOfWeek</th>\n",
       "      <th>Total Amount</th>\n",
       "    </tr>\n",
       "  </thead>\n",
       "  <tbody>\n",
       "    <tr>\n",
       "      <th>5</th>\n",
       "      <td>Tuesday</td>\n",
       "      <td>11620</td>\n",
       "    </tr>\n",
       "  </tbody>\n",
       "</table>\n",
       "</div>"
      ],
      "text/plain": [
       "  DayOfWeek  Total Amount\n",
       "5   Tuesday         11620"
      ]
     },
     "execution_count": 56,
     "metadata": {},
     "output_type": "execute_result"
    }
   ],
   "source": [
    "# Find the day of week(s) with the least total sales\n",
    "day_of_week_sales =day_of_week_sales [day_of_week_sales['Total Amount'] == day_of_week_sales['Total Amount'].min()]\n",
    "day_of_week_sales"
   ]
  },
  {
   "cell_type": "code",
   "execution_count": null,
   "id": "6006b841",
   "metadata": {},
   "outputs": [],
   "source": [
    "# Insights\n",
    "The best mont for sales was January while the best week of sales was monday"
   ]
  },
  {
   "cell_type": "markdown",
   "id": "1f2bbaa2",
   "metadata": {},
   "source": [
    "# 3.Which product categories hold the highest appeal among customers?"
   ]
  },
  {
   "cell_type": "code",
   "execution_count": 62,
   "id": "3ddceba4",
   "metadata": {},
   "outputs": [
    {
     "data": {
      "text/plain": [
       "0           Beauty\n",
       "1         Clothing\n",
       "2      Electronics\n",
       "3         Clothing\n",
       "4           Beauty\n",
       "          ...     \n",
       "995       Clothing\n",
       "996         Beauty\n",
       "997         Beauty\n",
       "998    Electronics\n",
       "999    Electronics\n",
       "Name: Product Category, Length: 1000, dtype: object"
      ]
     },
     "execution_count": 62,
     "metadata": {},
     "output_type": "execute_result"
    }
   ],
   "source": [
    "df['Product Category']"
   ]
  },
  {
   "cell_type": "code",
   "execution_count": 63,
   "id": "2b0f1153",
   "metadata": {},
   "outputs": [
    {
     "data": {
      "text/plain": [
       "Product Category\n",
       "Beauty         771\n",
       "Clothing       894\n",
       "Electronics    849\n",
       "Name: Quantity, dtype: int64"
      ]
     },
     "execution_count": 63,
     "metadata": {},
     "output_type": "execute_result"
    }
   ],
   "source": [
    "# Group the data by Product Category and sum the Quantity to find the total quantity sold per category\n",
    "category_sales = df.groupby('Product Category')['Quantity'].sum()\n",
    "category_sales"
   ]
  },
  {
   "cell_type": "code",
   "execution_count": 64,
   "id": "9816500b",
   "metadata": {},
   "outputs": [
    {
     "data": {
      "text/plain": [
       "'Clothing'"
      ]
     },
     "execution_count": 64,
     "metadata": {},
     "output_type": "execute_result"
    }
   ],
   "source": [
    "most_sold_category = category_sales.idxmax()\n",
    "most_sold_category"
   ]
  },
  {
   "cell_type": "code",
   "execution_count": 65,
   "id": "90a98aad",
   "metadata": {},
   "outputs": [
    {
     "data": {
      "text/plain": [
       "894"
      ]
     },
     "execution_count": 65,
     "metadata": {},
     "output_type": "execute_result"
    }
   ],
   "source": [
    "max_quantity_sold = category_sales.max()\n",
    "max_quantity_sold"
   ]
  },
  {
   "cell_type": "markdown",
   "id": "4abc4a1b",
   "metadata": {},
   "source": [
    " # The product that sold most was clothing."
   ]
  },
  {
   "cell_type": "markdown",
   "id": "5b841f68",
   "metadata": {},
   "source": [
    "# 4.What are the relationships between age, spending, and product preferences?"
   ]
  },
  {
   "cell_type": "code",
   "execution_count": 66,
   "id": "4aa10902",
   "metadata": {},
   "outputs": [
    {
     "data": {
      "image/png": "[encoded data removed]",
      "text/plain": [
       "<Figure size 720x432 with 1 Axes>"
      ]
     },
     "metadata": {
      "needs_background": "light"
     },
     "output_type": "display_data"
    }
   ],
   "source": [
    "# Scatter plot of Age vs. Total Amount spent\n",
    "plt.figure(figsize=(10, 6))\n",
    "sns.scatterplot(data=df, x=\"Age\", y=\"Total Amount\", hue=\"Product Category\")\n",
    "plt.title(\"Age vs. Total Amount Spent by Product Category\")\n",
    "plt.show()"
   ]
  },
  {
   "cell_type": "code",
   "execution_count": 67,
   "id": "1018eddf",
   "metadata": {},
   "outputs": [
    {
     "data": {
      "text/plain": [
       "-0.060568023883045684"
      ]
     },
     "execution_count": 67,
     "metadata": {},
     "output_type": "execute_result"
    }
   ],
   "source": [
    "# Calculate Pearson's correlation coefficient between Age and Total Amount spent\n",
    "correlation_coefficient = df[\"Age\"].corr(df[\"Total Amount\"])\n",
    "correlation_coefficient"
   ]
  },
  {
   "cell_type": "markdown",
   "id": "730fd2fc",
   "metadata": {},
   "source": [
    "* The strength of the relationship is weak so its unlikely to be significant"
   ]
  },
  {
   "cell_type": "code",
   "execution_count": 149,
   "id": "e12ea5ee",
   "metadata": {},
   "outputs": [
    {
     "data": {
      "text/html": [
       "<div>\n",
       "<style scoped>\n",
       "    .dataframe tbody tr th:only-of-type {\n",
       "        vertical-align: middle;\n",
       "    }\n",
       "\n",
       "    .dataframe tbody tr th {\n",
       "        vertical-align: top;\n",
       "    }\n",
       "\n",
       "    .dataframe thead th {\n",
       "        text-align: right;\n",
       "    }\n",
       "</style>\n",
       "<table border=\"1\" class=\"dataframe\">\n",
       "  <thead>\n",
       "    <tr style=\"text-align: right;\">\n",
       "      <th>Age</th>\n",
       "      <th>(0, 20]</th>\n",
       "      <th>(20, 30]</th>\n",
       "      <th>(30, 40]</th>\n",
       "      <th>(40, 50]</th>\n",
       "      <th>(50, 60]</th>\n",
       "      <th>(60, 100]</th>\n",
       "    </tr>\n",
       "    <tr>\n",
       "      <th>Product Category</th>\n",
       "      <th></th>\n",
       "      <th></th>\n",
       "      <th></th>\n",
       "      <th></th>\n",
       "      <th></th>\n",
       "      <th></th>\n",
       "    </tr>\n",
       "  </thead>\n",
       "  <tbody>\n",
       "    <tr>\n",
       "      <th>Beauty</th>\n",
       "      <td>493.750000</td>\n",
       "      <td>463.835616</td>\n",
       "      <td>586.160714</td>\n",
       "      <td>501.439394</td>\n",
       "      <td>432.822581</td>\n",
       "      <td>194.230769</td>\n",
       "    </tr>\n",
       "    <tr>\n",
       "      <th>Clothing</th>\n",
       "      <td>453.437500</td>\n",
       "      <td>575.208333</td>\n",
       "      <td>452.898551</td>\n",
       "      <td>364.691358</td>\n",
       "      <td>437.375000</td>\n",
       "      <td>337.272727</td>\n",
       "    </tr>\n",
       "    <tr>\n",
       "      <th>Electronics</th>\n",
       "      <td>679.347826</td>\n",
       "      <td>352.923077</td>\n",
       "      <td>468.750000</td>\n",
       "      <td>421.081081</td>\n",
       "      <td>490.512821</td>\n",
       "      <td>501.323529</td>\n",
       "    </tr>\n",
       "  </tbody>\n",
       "</table>\n",
       "</div>"
      ],
      "text/plain": [
       "Age                  (0, 20]    (20, 30]    (30, 40]    (40, 50]    (50, 60]  \\\n",
       "Product Category                                                               \n",
       "Beauty            493.750000  463.835616  586.160714  501.439394  432.822581   \n",
       "Clothing          453.437500  575.208333  452.898551  364.691358  437.375000   \n",
       "Electronics       679.347826  352.923077  468.750000  421.081081  490.512821   \n",
       "\n",
       "Age                (60, 100]  \n",
       "Product Category              \n",
       "Beauty            194.230769  \n",
       "Clothing          337.272727  \n",
       "Electronics       501.323529  "
      ]
     },
     "execution_count": 149,
     "metadata": {},
     "output_type": "execute_result"
    }
   ],
   "source": [
    "# Calculate average Total Amount spent per age group for each product category\n",
    "age_grouped = df.groupby([\"Product Category\", pd.cut(df[\"Age\"], bins=[0, 20, 30, 40, 50, 60, 100])])[\"Total Amount\"].mean().unstack()\n",
    "age_grouped"
   ]
  },
  {
   "cell_type": "code",
   "execution_count": 151,
   "id": "8e0529bd",
   "metadata": {},
   "outputs": [
    {
     "data": {
      "image/png": "[encoded data removed]",
      "text/plain": [
       "<Figure size 432x288 with 1 Axes>"
      ]
     },
     "metadata": {
      "needs_background": "light"
     },
     "output_type": "display_data"
    }
   ],
   "source": [
    "# Plot the results\n",
    "age_grouped.plot(kind=\"bar\", stacked=True)\n",
    "plt.title(\"Average Total Amount Spent by Age Group and Product Category\")\n",
    "plt.xlabel(\"Age Group\")\n",
    "plt.ylabel(\"Average Total Amount\")\n",
    "plt.legend(title=\"Product Category\")\n",
    "plt.show()"
   ]
  },
  {
   "cell_type": "markdown",
   "id": "92ad2f64",
   "metadata": {},
   "source": [
    " # Age 0-20 are the ones who spend most and its spent on electronics as young adults tend to be more tech savvy."
   ]
  }
 ],
 "metadata": {
  "kernelspec": {
   "display_name": "Python 3 (ipykernel)",
   "language": "python",
   "name": "python3"
  },
  "language_info": {
   "codemirror_mode": {
    "name": "ipython",
    "version": 3
   },
   "file_extension": ".py",
   "mimetype": "text/x-python",
   "name": "python",
   "nbconvert_exporter": "python",
   "pygments_lexer": "ipython3",
   "version": "3.9.7"
  }
 },
 "nbformat": 4,
 "nbformat_minor": 5
}
